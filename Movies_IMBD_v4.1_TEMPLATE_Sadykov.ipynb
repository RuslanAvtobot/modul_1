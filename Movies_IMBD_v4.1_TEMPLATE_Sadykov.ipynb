{
 "cells": [
  {
   "cell_type": "code",
   "execution_count": 3,
   "metadata": {
    "_cell_guid": "b1076dfc-b9ad-4769-8c92-a6c4dae69d19",
    "_uuid": "8f2839f25d086af736a60e9eeb907d3b93b6e0e5",
    "colab": {},
    "colab_type": "code",
    "id": "U2D2gTdJVp90"
   },
   "outputs": [],
   "source": [
    "import numpy as np\n",
    "import pandas as pd\n",
    "import seaborn as sns\n",
    "import matplotlib.pyplot as plt\n",
    "import datetime as dt\n",
    "from collections import Counter"
   ]
  },
  {
   "cell_type": "code",
   "execution_count": 4,
   "metadata": {
    "_cell_guid": "79c7e3d0-c299-4dcb-8224-4455121ee9b0",
    "_uuid": "d629ff2d2480ee46fbb7e2d37f6b5fab8052498a",
    "colab": {},
    "colab_type": "code",
    "id": "oyGfxL3eVp9-"
   },
   "outputs": [
    {
     "data": {
      "text/html": [
       "<div>\n",
       "<style scoped>\n",
       "    .dataframe tbody tr th:only-of-type {\n",
       "        vertical-align: middle;\n",
       "    }\n",
       "\n",
       "    .dataframe tbody tr th {\n",
       "        vertical-align: top;\n",
       "    }\n",
       "\n",
       "    .dataframe thead th {\n",
       "        text-align: right;\n",
       "    }\n",
       "</style>\n",
       "<table border=\"1\" class=\"dataframe\">\n",
       "  <thead>\n",
       "    <tr style=\"text-align: right;\">\n",
       "      <th></th>\n",
       "      <th>imdb_id</th>\n",
       "      <th>budget</th>\n",
       "      <th>revenue</th>\n",
       "      <th>original_title</th>\n",
       "      <th>cast</th>\n",
       "      <th>director</th>\n",
       "      <th>tagline</th>\n",
       "      <th>overview</th>\n",
       "      <th>runtime</th>\n",
       "      <th>genres</th>\n",
       "      <th>production_companies</th>\n",
       "      <th>release_date</th>\n",
       "      <th>vote_average</th>\n",
       "      <th>release_year</th>\n",
       "    </tr>\n",
       "  </thead>\n",
       "  <tbody>\n",
       "    <tr>\n",
       "      <th>306</th>\n",
       "      <td>tt0899106</td>\n",
       "      <td>18000000</td>\n",
       "      <td>36133014</td>\n",
       "      <td>Love Happens</td>\n",
       "      <td>Aaron Eckhart|Jennifer Aniston|Judy Greer|Mart...</td>\n",
       "      <td>Brandon Camp</td>\n",
       "      <td>Sometimes when you least expect it...</td>\n",
       "      <td>Dr. Burke Ryan is a successful self-help autho...</td>\n",
       "      <td>109</td>\n",
       "      <td>Drama|Romance</td>\n",
       "      <td>Universal Pictures|Stuber Productions|Camp / T...</td>\n",
       "      <td>9/18/2009</td>\n",
       "      <td>5.5</td>\n",
       "      <td>2009</td>\n",
       "    </tr>\n",
       "    <tr>\n",
       "      <th>359</th>\n",
       "      <td>tt0458525</td>\n",
       "      <td>150000000</td>\n",
       "      <td>341131793</td>\n",
       "      <td>X-Men Origins: Wolverine</td>\n",
       "      <td>Hugh Jackman|Liev Schreiber|Danny Huston|Lynn ...</td>\n",
       "      <td>Gavin Hood</td>\n",
       "      <td>Witness the Origin.</td>\n",
       "      <td>After seeking to live a normal life, Logan set...</td>\n",
       "      <td>107</td>\n",
       "      <td>Adventure|Action|Thriller|Science Fiction</td>\n",
       "      <td>Ingenious Film Partners|Twentieth Century Fox ...</td>\n",
       "      <td>4/28/2009</td>\n",
       "      <td>6.2</td>\n",
       "      <td>2009</td>\n",
       "    </tr>\n",
       "    <tr>\n",
       "      <th>806</th>\n",
       "      <td>tt1438176</td>\n",
       "      <td>17000000</td>\n",
       "      <td>24922237</td>\n",
       "      <td>Fright Night</td>\n",
       "      <td>Anton Yelchin|Colin Farrell|Toni Collette|Chri...</td>\n",
       "      <td>Craig Gillespie</td>\n",
       "      <td>You can't run from evil when it lives next door.</td>\n",
       "      <td>A teenager suspects his new neighbour is a vam...</td>\n",
       "      <td>106</td>\n",
       "      <td>Horror|Comedy</td>\n",
       "      <td>Touchstone Pictures</td>\n",
       "      <td>8/18/2011</td>\n",
       "      <td>6.1</td>\n",
       "      <td>2011</td>\n",
       "    </tr>\n",
       "    <tr>\n",
       "      <th>1615</th>\n",
       "      <td>tt0368933</td>\n",
       "      <td>40000000</td>\n",
       "      <td>95149435</td>\n",
       "      <td>The Princess Diaries 2: Royal Engagement</td>\n",
       "      <td>Anne Hathaway|Julie Andrews|HÃ©ctor Elizondo|J...</td>\n",
       "      <td>Garry Marshall</td>\n",
       "      <td>It can take a lifetime to find true love; she'...</td>\n",
       "      <td>Mia Thermopolis is now a college graduate and ...</td>\n",
       "      <td>113</td>\n",
       "      <td>Comedy|Drama|Family|Romance</td>\n",
       "      <td>Walt Disney Pictures</td>\n",
       "      <td>8/6/2004</td>\n",
       "      <td>5.9</td>\n",
       "      <td>2004</td>\n",
       "    </tr>\n",
       "    <tr>\n",
       "      <th>1838</th>\n",
       "      <td>tt0218967</td>\n",
       "      <td>60000000</td>\n",
       "      <td>124745083</td>\n",
       "      <td>The Family Man</td>\n",
       "      <td>Nicolas Cage|TÃ©a Leoni|Don Cheadle|Saul Rubin...</td>\n",
       "      <td>Brett Ratner</td>\n",
       "      <td>What if you made different choices? What if yo...</td>\n",
       "      <td>Jack's lavish, fast-paced lifestyle changes on...</td>\n",
       "      <td>125</td>\n",
       "      <td>Comedy|Drama|Romance|Fantasy</td>\n",
       "      <td>Universal Pictures</td>\n",
       "      <td>12/12/2000</td>\n",
       "      <td>6.4</td>\n",
       "      <td>2000</td>\n",
       "    </tr>\n",
       "  </tbody>\n",
       "</table>\n",
       "</div>"
      ],
      "text/plain": [
       "        imdb_id     budget    revenue  \\\n",
       "306   tt0899106   18000000   36133014   \n",
       "359   tt0458525  150000000  341131793   \n",
       "806   tt1438176   17000000   24922237   \n",
       "1615  tt0368933   40000000   95149435   \n",
       "1838  tt0218967   60000000  124745083   \n",
       "\n",
       "                                original_title  \\\n",
       "306                               Love Happens   \n",
       "359                   X-Men Origins: Wolverine   \n",
       "806                               Fright Night   \n",
       "1615  The Princess Diaries 2: Royal Engagement   \n",
       "1838                            The Family Man   \n",
       "\n",
       "                                                   cast         director  \\\n",
       "306   Aaron Eckhart|Jennifer Aniston|Judy Greer|Mart...     Brandon Camp   \n",
       "359   Hugh Jackman|Liev Schreiber|Danny Huston|Lynn ...       Gavin Hood   \n",
       "806   Anton Yelchin|Colin Farrell|Toni Collette|Chri...  Craig Gillespie   \n",
       "1615  Anne Hathaway|Julie Andrews|HÃ©ctor Elizondo|J...   Garry Marshall   \n",
       "1838  Nicolas Cage|TÃ©a Leoni|Don Cheadle|Saul Rubin...     Brett Ratner   \n",
       "\n",
       "                                                tagline  \\\n",
       "306               Sometimes when you least expect it...   \n",
       "359                                 Witness the Origin.   \n",
       "806    You can't run from evil when it lives next door.   \n",
       "1615  It can take a lifetime to find true love; she'...   \n",
       "1838  What if you made different choices? What if yo...   \n",
       "\n",
       "                                               overview  runtime  \\\n",
       "306   Dr. Burke Ryan is a successful self-help autho...      109   \n",
       "359   After seeking to live a normal life, Logan set...      107   \n",
       "806   A teenager suspects his new neighbour is a vam...      106   \n",
       "1615  Mia Thermopolis is now a college graduate and ...      113   \n",
       "1838  Jack's lavish, fast-paced lifestyle changes on...      125   \n",
       "\n",
       "                                         genres  \\\n",
       "306                               Drama|Romance   \n",
       "359   Adventure|Action|Thriller|Science Fiction   \n",
       "806                               Horror|Comedy   \n",
       "1615                Comedy|Drama|Family|Romance   \n",
       "1838               Comedy|Drama|Romance|Fantasy   \n",
       "\n",
       "                                   production_companies release_date  \\\n",
       "306   Universal Pictures|Stuber Productions|Camp / T...    9/18/2009   \n",
       "359   Ingenious Film Partners|Twentieth Century Fox ...    4/28/2009   \n",
       "806                                 Touchstone Pictures    8/18/2011   \n",
       "1615                               Walt Disney Pictures     8/6/2004   \n",
       "1838                                 Universal Pictures   12/12/2000   \n",
       "\n",
       "      vote_average  release_year  \n",
       "306            5.5          2009  \n",
       "359            6.2          2009  \n",
       "806            6.1          2011  \n",
       "1615           5.9          2004  \n",
       "1838           6.4          2000  "
      ]
     },
     "execution_count": 4,
     "metadata": {},
     "output_type": "execute_result"
    }
   ],
   "source": [
    "data = pd.read_csv('movie_bd_v5.csv', encoding = 'utf-8')\n",
    "data.sample(5)"
   ]
  },
  {
   "cell_type": "code",
   "execution_count": 5,
   "metadata": {
    "colab": {},
    "colab_type": "code",
    "id": "CoYUnagMVp-C"
   },
   "outputs": [
    {
     "name": "stdout",
     "output_type": "stream",
     "text": [
      "<class 'pandas.core.frame.DataFrame'>\n",
      "RangeIndex: 1889 entries, 0 to 1888\n",
      "Data columns (total 14 columns):\n",
      " #   Column                Non-Null Count  Dtype  \n",
      "---  ------                --------------  -----  \n",
      " 0   imdb_id               1889 non-null   object \n",
      " 1   budget                1889 non-null   int64  \n",
      " 2   revenue               1889 non-null   int64  \n",
      " 3   original_title        1889 non-null   object \n",
      " 4   cast                  1889 non-null   object \n",
      " 5   director              1889 non-null   object \n",
      " 6   tagline               1889 non-null   object \n",
      " 7   overview              1889 non-null   object \n",
      " 8   runtime               1889 non-null   int64  \n",
      " 9   genres                1889 non-null   object \n",
      " 10  production_companies  1889 non-null   object \n",
      " 11  release_date          1889 non-null   object \n",
      " 12  vote_average          1889 non-null   float64\n",
      " 13  release_year          1889 non-null   int64  \n",
      "dtypes: float64(1), int64(4), object(9)\n",
      "memory usage: 206.7+ KB\n"
     ]
    }
   ],
   "source": [
    "data.info()"
   ]
  },
  {
   "cell_type": "markdown",
   "metadata": {
    "colab_type": "text",
    "id": "DTIt7ezGVp-G"
   },
   "source": [
    "# Предобработка"
   ]
  },
  {
   "cell_type": "code",
   "execution_count": 31,
   "metadata": {
    "colab": {},
    "colab_type": "code",
    "id": "jNb40DwKVp-H"
   },
   "outputs": [
    {
     "name": "stdout",
     "output_type": "stream",
     "text": [
      "{'encoding': 'utf-8', 'confidence': 0.99, 'language': ''}\n"
     ]
    }
   ],
   "source": [
    "answers = {} # создадим словарь для ответов\n",
    "\n",
    "# тут другие ваши предобработки колонок например:\n",
    "from chardet.universaldetector import UniversalDetector\n",
    "detector = UniversalDetector()\n",
    "with open('movie_bd_v5.csv', 'rb') as fh:\n",
    "    for line in fh:\n",
    "        detector.feed(line)\n",
    "        if detector.done:\n",
    "            break\n",
    "    detector.close()\n",
    "print(detector.result)\n",
    "#the time given in the dataset is in string format.\n",
    "#So we need to change this in datetime format\n",
    "# ..."
   ]
  },
  {
   "cell_type": "markdown",
   "metadata": {
    "colab_type": "text",
    "id": "YxZaH-nPVp-L"
   },
   "source": [
    "# 1. У какого фильма из списка самый большой бюджет?"
   ]
  },
  {
   "cell_type": "markdown",
   "metadata": {
    "colab_type": "text",
    "id": "Nd-G5gX6Vp-M"
   },
   "source": [
    "Использовать варианты ответов в коде решения запрещено.    \n",
    "Вы думаете и в жизни у вас будут варианты ответов?)"
   ]
  },
  {
   "cell_type": "code",
   "execution_count": 32,
   "metadata": {
    "colab": {},
    "colab_type": "code",
    "id": "dZwb3m28Vp-S"
   },
   "outputs": [],
   "source": [
    "max_budget = data.original_title.get(data.budget == data.budget.max()\n",
    "                                    ) + '(' + data.imdb_id.get(data.budget == data.budget.max()) + ')'\n",
    "max_budget\n",
    "answers['1'] = max_budget.values[0]"
   ]
  },
  {
   "cell_type": "markdown",
   "metadata": {
    "colab_type": "text",
    "id": "K7L3nbRXVp-X"
   },
   "source": [
    "ВАРИАНТ 2"
   ]
  },
  {
   "cell_type": "code",
   "execution_count": 33,
   "metadata": {
    "colab": {},
    "colab_type": "code",
    "id": "OGaoQI7rVp-X"
   },
   "outputs": [
    {
     "data": {
      "text/plain": [
       "'Pirates of the Caribbean: On Stranger Tides(tt1298650)'"
      ]
     },
     "execution_count": 33,
     "metadata": {},
     "output_type": "execute_result"
    }
   ],
   "source": [
    "max_budget_find = 0\n",
    "for i in data.budget:\n",
    "    if i < max_budget_find:\n",
    "        continue\n",
    "    else:\n",
    "        max_budget_find = i\n",
    "    \n",
    "max_budget2 = ax_budget = data.original_title.get(data.budget == max_budget_find\n",
    "                                                 ) + '(' + data.imdb_id.get(data.budget == max_budget_find) + ')'\n",
    "max_budget2.values[0]"
   ]
  },
  {
   "cell_type": "markdown",
   "metadata": {
    "colab_type": "text",
    "id": "FNRbbI3vVp-c"
   },
   "source": [
    "# 2. Какой из фильмов самый длительный (в минутах)?"
   ]
  },
  {
   "cell_type": "code",
   "execution_count": 34,
   "metadata": {
    "colab": {},
    "colab_type": "code",
    "id": "ot-VX2XrVp-g"
   },
   "outputs": [],
   "source": [
    "max_runtime = data.original_title.get(data.runtime == data.runtime.max()\n",
    "                                    ) + '(' + data.imdb_id.get(data.runtime == data.runtime.max()) + ')'\n",
    "answers['2'] = max_runtime.values[0]"
   ]
  },
  {
   "cell_type": "markdown",
   "metadata": {
    "colab_type": "text",
    "id": "bapLlpW8Vp-k"
   },
   "source": [
    "# 3. Какой из фильмов самый короткий (в минутах)?\n",
    "\n",
    "\n",
    "\n"
   ]
  },
  {
   "cell_type": "code",
   "execution_count": 35,
   "metadata": {
    "colab": {},
    "colab_type": "code",
    "id": "YBxaSHuAVp-l"
   },
   "outputs": [],
   "source": [
    "min_runtime = data.original_title.get(data.runtime == data.runtime.min()\n",
    "                                    ) + '(' + data.imdb_id.get(data.runtime == data.runtime.min()) + ')'\n",
    "answers['3'] = min_runtime.values[0]"
   ]
  },
  {
   "cell_type": "markdown",
   "metadata": {
    "colab_type": "text",
    "id": "TfQbxbfNVp-p"
   },
   "source": [
    "# 4. Какова средняя длительность фильмов?\n"
   ]
  },
  {
   "cell_type": "code",
   "execution_count": 37,
   "metadata": {
    "colab": {},
    "colab_type": "code",
    "id": "5K6dKZYVVp-q"
   },
   "outputs": [],
   "source": [
    "mean_runtime = data.runtime.mean()\n",
    "answers['4'] = mean_runtime"
   ]
  },
  {
   "cell_type": "markdown",
   "metadata": {
    "colab_type": "text",
    "id": "r5TvbnT_Vp-u"
   },
   "source": [
    "# 5. Каково медианное значение длительности фильмов? "
   ]
  },
  {
   "cell_type": "code",
   "execution_count": 38,
   "metadata": {
    "colab": {},
    "colab_type": "code",
    "id": "iBROplKnVp-v",
    "scrolled": false
   },
   "outputs": [],
   "source": [
    "median_runtime = data.runtime.median()\n",
    "answers['5'] = median_runtime"
   ]
  },
  {
   "cell_type": "markdown",
   "metadata": {
    "colab_type": "text",
    "id": "39P-deDSVp-y"
   },
   "source": [
    "## 6. Какой самый прибыльный фильм?\n",
    "## Внимание! Здесь и далее под «прибылью» или «убытками» понимается разность между сборами и бюджетом фильма. (прибыль = сборы - бюджет) в нашем датасете это будет (profit = revenue - budget) "
   ]
  },
  {
   "cell_type": "code",
   "execution_count": 39,
   "metadata": {
    "colab": {},
    "colab_type": "code",
    "id": "UYZh4T9WVp-y"
   },
   "outputs": [
    {
     "data": {
      "text/html": [
       "<div>\n",
       "<style scoped>\n",
       "    .dataframe tbody tr th:only-of-type {\n",
       "        vertical-align: middle;\n",
       "    }\n",
       "\n",
       "    .dataframe tbody tr th {\n",
       "        vertical-align: top;\n",
       "    }\n",
       "\n",
       "    .dataframe thead th {\n",
       "        text-align: right;\n",
       "    }\n",
       "</style>\n",
       "<table border=\"1\" class=\"dataframe\">\n",
       "  <thead>\n",
       "    <tr style=\"text-align: right;\">\n",
       "      <th></th>\n",
       "      <th>imdb_id</th>\n",
       "      <th>budget</th>\n",
       "      <th>revenue</th>\n",
       "      <th>original_title</th>\n",
       "      <th>cast</th>\n",
       "      <th>director</th>\n",
       "      <th>tagline</th>\n",
       "      <th>overview</th>\n",
       "      <th>runtime</th>\n",
       "      <th>genres</th>\n",
       "      <th>production_companies</th>\n",
       "      <th>release_date</th>\n",
       "      <th>vote_average</th>\n",
       "      <th>release_year</th>\n",
       "      <th>profit</th>\n",
       "    </tr>\n",
       "  </thead>\n",
       "  <tbody>\n",
       "    <tr>\n",
       "      <th>1326</th>\n",
       "      <td>tt0395699</td>\n",
       "      <td>56000000</td>\n",
       "      <td>113006880</td>\n",
       "      <td>The Pacifier</td>\n",
       "      <td>Vin Diesel|Lauren Graham|Faith Ford|Chris Pott...</td>\n",
       "      <td>Adam Shankman</td>\n",
       "      <td>Welcome to the infantry.</td>\n",
       "      <td>Disgraced Navy SEAL Shane Wolfe is handed a ne...</td>\n",
       "      <td>95</td>\n",
       "      <td>Action|Comedy|Drama|Family|Thriller</td>\n",
       "      <td>Walt Disney Pictures|Spyglass Entertainment</td>\n",
       "      <td>3/4/2005</td>\n",
       "      <td>5.8</td>\n",
       "      <td>2005</td>\n",
       "      <td>57006880</td>\n",
       "    </tr>\n",
       "    <tr>\n",
       "      <th>1166</th>\n",
       "      <td>tt0324133</td>\n",
       "      <td>7800000</td>\n",
       "      <td>22441323</td>\n",
       "      <td>Swimming Pool</td>\n",
       "      <td>Charlotte Rampling|Ludivine Sagnier|Charles Da...</td>\n",
       "      <td>FranÃ§ois Ozon</td>\n",
       "      <td>On the surface, all is calm.</td>\n",
       "      <td>In the middle of this amusing thriller is a re...</td>\n",
       "      <td>102</td>\n",
       "      <td>Thriller|Crime</td>\n",
       "      <td>France 2 CinÃ©ma|Canal Plus|FidÃ©litÃ© Product...</td>\n",
       "      <td>5/18/2003</td>\n",
       "      <td>6.2</td>\n",
       "      <td>2003</td>\n",
       "      <td>14641323</td>\n",
       "    </tr>\n",
       "    <tr>\n",
       "      <th>1379</th>\n",
       "      <td>tt0393162</td>\n",
       "      <td>30000000</td>\n",
       "      <td>76669806</td>\n",
       "      <td>Coach Carter</td>\n",
       "      <td>Samuel L. Jackson|Rob Brown|Robert Ri'chard|Ri...</td>\n",
       "      <td>Thomas Carter</td>\n",
       "      <td>It begins on the street. It ends here.</td>\n",
       "      <td>Based on a true story, in which Richmond High ...</td>\n",
       "      <td>136</td>\n",
       "      <td>Drama</td>\n",
       "      <td>Paramount Pictures|MTV Films|Tollin/Robbins Pr...</td>\n",
       "      <td>1/14/2005</td>\n",
       "      <td>7.3</td>\n",
       "      <td>2005</td>\n",
       "      <td>46669806</td>\n",
       "    </tr>\n",
       "    <tr>\n",
       "      <th>513</th>\n",
       "      <td>tt0265666</td>\n",
       "      <td>21000000</td>\n",
       "      <td>71441250</td>\n",
       "      <td>The Royal Tenenbaums</td>\n",
       "      <td>Gene Hackman|Anjelica Huston|Ben Stiller|Gwyne...</td>\n",
       "      <td>Wes Anderson</td>\n",
       "      <td>Family isnâ€™t a word, itâ€™s a sentence.</td>\n",
       "      <td>An estranged family of former child prodigies ...</td>\n",
       "      <td>110</td>\n",
       "      <td>Comedy|Drama</td>\n",
       "      <td>Touchstone Pictures</td>\n",
       "      <td>10/5/2001</td>\n",
       "      <td>7.3</td>\n",
       "      <td>2001</td>\n",
       "      <td>50441250</td>\n",
       "    </tr>\n",
       "    <tr>\n",
       "      <th>1696</th>\n",
       "      <td>tt0431308</td>\n",
       "      <td>30000000</td>\n",
       "      <td>156835339</td>\n",
       "      <td>P.S. I Love You</td>\n",
       "      <td>Hilary Swank|Gerard Butler|Lisa Kudrow|Harry C...</td>\n",
       "      <td>Richard LaGravenese</td>\n",
       "      <td>His life ended. Now, a new one will begin.</td>\n",
       "      <td>A young widow discovers that her late husband ...</td>\n",
       "      <td>126</td>\n",
       "      <td>Drama|Romance</td>\n",
       "      <td>Wendy Finerman Productions|Alcon Entertainment...</td>\n",
       "      <td>11/15/2007</td>\n",
       "      <td>7.0</td>\n",
       "      <td>2007</td>\n",
       "      <td>126835339</td>\n",
       "    </tr>\n",
       "  </tbody>\n",
       "</table>\n",
       "</div>"
      ],
      "text/plain": [
       "        imdb_id    budget    revenue        original_title  \\\n",
       "1326  tt0395699  56000000  113006880          The Pacifier   \n",
       "1166  tt0324133   7800000   22441323         Swimming Pool   \n",
       "1379  tt0393162  30000000   76669806          Coach Carter   \n",
       "513   tt0265666  21000000   71441250  The Royal Tenenbaums   \n",
       "1696  tt0431308  30000000  156835339       P.S. I Love You   \n",
       "\n",
       "                                                   cast             director  \\\n",
       "1326  Vin Diesel|Lauren Graham|Faith Ford|Chris Pott...        Adam Shankman   \n",
       "1166  Charlotte Rampling|Ludivine Sagnier|Charles Da...       FranÃ§ois Ozon   \n",
       "1379  Samuel L. Jackson|Rob Brown|Robert Ri'chard|Ri...        Thomas Carter   \n",
       "513   Gene Hackman|Anjelica Huston|Ben Stiller|Gwyne...         Wes Anderson   \n",
       "1696  Hilary Swank|Gerard Butler|Lisa Kudrow|Harry C...  Richard LaGravenese   \n",
       "\n",
       "                                         tagline  \\\n",
       "1326                    Welcome to the infantry.   \n",
       "1166                On the surface, all is calm.   \n",
       "1379      It begins on the street. It ends here.   \n",
       "513    Family isnâ€™t a word, itâ€™s a sentence.   \n",
       "1696  His life ended. Now, a new one will begin.   \n",
       "\n",
       "                                               overview  runtime  \\\n",
       "1326  Disgraced Navy SEAL Shane Wolfe is handed a ne...       95   \n",
       "1166  In the middle of this amusing thriller is a re...      102   \n",
       "1379  Based on a true story, in which Richmond High ...      136   \n",
       "513   An estranged family of former child prodigies ...      110   \n",
       "1696  A young widow discovers that her late husband ...      126   \n",
       "\n",
       "                                   genres  \\\n",
       "1326  Action|Comedy|Drama|Family|Thriller   \n",
       "1166                       Thriller|Crime   \n",
       "1379                                Drama   \n",
       "513                          Comedy|Drama   \n",
       "1696                        Drama|Romance   \n",
       "\n",
       "                                   production_companies release_date  \\\n",
       "1326        Walt Disney Pictures|Spyglass Entertainment     3/4/2005   \n",
       "1166  France 2 CinÃ©ma|Canal Plus|FidÃ©litÃ© Product...    5/18/2003   \n",
       "1379  Paramount Pictures|MTV Films|Tollin/Robbins Pr...    1/14/2005   \n",
       "513                                 Touchstone Pictures    10/5/2001   \n",
       "1696  Wendy Finerman Productions|Alcon Entertainment...   11/15/2007   \n",
       "\n",
       "      vote_average  release_year     profit  \n",
       "1326           5.8          2005   57006880  \n",
       "1166           6.2          2003   14641323  \n",
       "1379           7.3          2005   46669806  \n",
       "513            7.3          2001   50441250  \n",
       "1696           7.0          2007  126835339  "
      ]
     },
     "execution_count": 39,
     "metadata": {},
     "output_type": "execute_result"
    }
   ],
   "source": [
    "data['profit'] = data.revenue - data.budget\n",
    "data.sample(5)"
   ]
  },
  {
   "cell_type": "code",
   "execution_count": 40,
   "metadata": {},
   "outputs": [],
   "source": [
    "max_profit = data.original_title.get(data.profit == data.profit.max()\n",
    "                                    ) + '(' + data.imdb_id.get(data.profit == data.profit.max()) + ')'\n",
    "answers['6'] = max_profit.values[0]"
   ]
  },
  {
   "cell_type": "markdown",
   "metadata": {
    "colab_type": "text",
    "id": "M99JmIX4Vp-2"
   },
   "source": [
    "# 7. Какой фильм самый убыточный? "
   ]
  },
  {
   "cell_type": "code",
   "execution_count": 41,
   "metadata": {
    "colab": {},
    "colab_type": "code",
    "id": "w-D2m4XPVp-3"
   },
   "outputs": [],
   "source": [
    "min_profit = data.original_title.get(data.profit == data.profit.min()\n",
    "                                    ) + '(' + data.imdb_id.get(data.profit == data.profit.min()) + ')'\n",
    "answers['7'] = min_profit.values[0]"
   ]
  },
  {
   "cell_type": "markdown",
   "metadata": {
    "colab_type": "text",
    "id": "wEOM5ERVVp-6"
   },
   "source": [
    "# 8. У скольких фильмов из датасета объем сборов оказался выше бюджета?"
   ]
  },
  {
   "cell_type": "code",
   "execution_count": 42,
   "metadata": {
    "colab": {},
    "colab_type": "code",
    "id": "y00_7HD6Vp-7"
   },
   "outputs": [],
   "source": [
    "profit_plus_df = data[data.profit > 0]\n",
    "profit_plus = len(profit_plus_df)\n",
    "profit_plus\n",
    "answers['8'] = profit_plus"
   ]
  },
  {
   "cell_type": "markdown",
   "metadata": {
    "colab_type": "text",
    "id": "xhpspA9KVp_A"
   },
   "source": [
    "# 9. Какой фильм оказался самым кассовым в 2008 году?"
   ]
  },
  {
   "cell_type": "code",
   "execution_count": 44,
   "metadata": {
    "colab": {},
    "colab_type": "code",
    "id": "MoUyQr9RVp_B"
   },
   "outputs": [],
   "source": [
    "data_release_year = data[data.release_year == 2008]\n",
    "max_profit_2008 = data_release_year.original_title.get(data_release_year.profit == data_release_year.profit.max()\n",
    "                                    ) + '(' + data_release_year.imdb_id.get(\n",
    "                                    data_release_year.profit == data_release_year.profit.max()) + ')'\n",
    "answers['9'] = max_profit_2008.values[0]"
   ]
  },
  {
   "cell_type": "markdown",
   "metadata": {
    "colab_type": "text",
    "id": "Zi4hDKidVp_F"
   },
   "source": [
    "# 10. Самый убыточный фильм за период с 2012 по 2014 г. (включительно)?\n"
   ]
  },
  {
   "cell_type": "code",
   "execution_count": 45,
   "metadata": {
    "colab": {},
    "colab_type": "code",
    "id": "XqyRmufJVp_F"
   },
   "outputs": [],
   "source": [
    "data_release_year = data[data.release_year.isin([2012, 2013, 2014])]\n",
    "min_profit_12_14 = data_release_year.original_title.get(data_release_year.profit == data_release_year.profit.min()\n",
    "                                    ) + '(' + data_release_year.imdb_id.get(\n",
    "                                    data_release_year.profit == data_release_year.profit.min()) + ')'\n",
    "answers['10'] = min_profit_12_14.values[0]"
   ]
  },
  {
   "cell_type": "markdown",
   "metadata": {
    "colab_type": "text",
    "id": "EA7Sa9dkVp_I"
   },
   "source": [
    "# 11. Какого жанра фильмов больше всего?"
   ]
  },
  {
   "cell_type": "code",
   "execution_count": 46,
   "metadata": {
    "colab": {},
    "colab_type": "code",
    "id": "zsJAwJ8QVp_J"
   },
   "outputs": [],
   "source": [
    "data_genres = data.copy()\n",
    "data_genres.genres = data_genres.genres.str.split('|')\n",
    "data_genres = data_genres.explode('genres')\n",
    "genres_max = data_genres.genres.value_counts().sort_values(ascending=False)\n",
    "answers['11'] = genres_max.index[0]"
   ]
  },
  {
   "cell_type": "markdown",
   "metadata": {
    "colab_type": "text",
    "id": "Ax6g2C8SVp_M"
   },
   "source": [
    "ВАРИАНТ 2"
   ]
  },
  {
   "cell_type": "code",
   "execution_count": 48,
   "metadata": {
    "colab": {},
    "colab_type": "code",
    "id": "otO3SbrSVp_N"
   },
   "outputs": [
    {
     "data": {
      "text/plain": [
       "genres\n",
       "Drama              782\n",
       "Comedy             683\n",
       "Thriller           596\n",
       "Action             582\n",
       "Adventure          415\n",
       "Crime              315\n",
       "Romance            308\n",
       "Family             260\n",
       "Science Fiction    248\n",
       "Fantasy            222\n",
       "Horror             176\n",
       "Mystery            168\n",
       "Animation          139\n",
       "Music               64\n",
       "History             62\n",
       "War                 58\n",
       "Western             19\n",
       "Documentary          8\n",
       "Foreign              2\n",
       "Name: profit, dtype: int64"
      ]
     },
     "execution_count": 48,
     "metadata": {},
     "output_type": "execute_result"
    }
   ],
   "source": [
    "genres_max_2 = data_genres.groupby('genres').count()['profit'].sort_values(ascending=False)\n",
    "genres_max_2"
   ]
  },
  {
   "cell_type": "markdown",
   "metadata": {
    "colab_type": "text",
    "id": "T9_bPWpkVp_Q"
   },
   "source": [
    "# 12. Фильмы какого жанра чаще всего становятся прибыльными? "
   ]
  },
  {
   "cell_type": "code",
   "execution_count": 49,
   "metadata": {
    "colab": {},
    "colab_type": "code",
    "id": "Tmt8MaK1Vp_R"
   },
   "outputs": [],
   "source": [
    "genres_profit_df = data_genres[data_genres.profit > 0]\n",
    "genres_profit = genres_profit_df.genres.value_counts().sort_values(ascending=False)\n",
    "answers['12'] = genres_profit.index[0]"
   ]
  },
  {
   "cell_type": "markdown",
   "metadata": {
    "colab_type": "text",
    "id": "0F23bgsDVp_U"
   },
   "source": [
    "# 13. У какого режиссера самые большие суммарные кассовые сбооры?"
   ]
  },
  {
   "cell_type": "code",
   "execution_count": 51,
   "metadata": {
    "colab": {},
    "colab_type": "code",
    "id": "K6Z3J8ygVp_X"
   },
   "outputs": [],
   "source": [
    "data_director = data.copy()\n",
    "data_director.director = data_director.director.str.split('|')\n",
    "data_director = data_director.explode('director')\n",
    "director_profit = data_director.groupby('director').sum()['profit'].sort_values(ascending=False)\n",
    "answers['13'] = director_profit.index[0]"
   ]
  },
  {
   "cell_type": "markdown",
   "metadata": {
    "colab_type": "text",
    "id": "PsYC9FgRVp_a"
   },
   "source": [
    "# 14. Какой режисер снял больше всего фильмов в стиле Action?"
   ]
  },
  {
   "cell_type": "code",
   "execution_count": 52,
   "metadata": {
    "colab": {},
    "colab_type": "code",
    "id": "wd2M-wHeVp_b"
   },
   "outputs": [],
   "source": [
    "director_genres_df = data_director[data_director.genres == 'Action']\n",
    "director_genres = director_genres_df.director.value_counts().sort_values(ascending=False)\n",
    "answers['14'] = director_genres.index[0]"
   ]
  },
  {
   "cell_type": "markdown",
   "metadata": {
    "colab_type": "text",
    "id": "PQ0KciD7Vp_f"
   },
   "source": [
    "# 15. Фильмы с каким актером принесли самые высокие кассовые сборы в 2012 году? "
   ]
  },
  {
   "cell_type": "code",
   "execution_count": 56,
   "metadata": {
    "colab": {},
    "colab_type": "code",
    "id": "aga62oeKVp_g"
   },
   "outputs": [],
   "source": [
    "data_acter = data.copy()\n",
    "data_acter.cast = data_acter.cast.str.split('|')\n",
    "data_acter = data_acter.explode('cast')\n",
    "data_acter_2012 = data_acter[data_acter.release_year == 2012]\n",
    "acter_profit = data_acter_2012.groupby('cast').sum()['profit'].sort_values(ascending=False)\n",
    "answers['15'] = acter_profit.index[0]"
   ]
  },
  {
   "cell_type": "markdown",
   "metadata": {
    "colab_type": "text",
    "id": "mWHyyL7QVp_j"
   },
   "source": [
    "# 16. Какой актер снялся в большем количестве высокобюджетных фильмов?"
   ]
  },
  {
   "cell_type": "code",
   "execution_count": 54,
   "metadata": {
    "colab": {},
    "colab_type": "code",
    "id": "qQtmHKTFVp_k"
   },
   "outputs": [],
   "source": [
    "expensive_acter_df = data_acter[data_acter.budget > data_acter.budget.mean()]\n",
    "expensive_acter = expensive_acter_df.cast.value_counts().sort_values(ascending=False)\n",
    "answers['16'] = expensive_acter.index[0]"
   ]
  },
  {
   "cell_type": "markdown",
   "metadata": {
    "colab_type": "text",
    "id": "NIh6AaW5Vp_n"
   },
   "source": [
    "# 17. В фильмах какого жанра больше всего снимался Nicolas Cage? "
   ]
  },
  {
   "cell_type": "code",
   "execution_count": 57,
   "metadata": {
    "colab": {},
    "colab_type": "code",
    "id": "H74SJDIBVp_n"
   },
   "outputs": [],
   "source": [
    "Nicolas_Cage_df = data_acter.copy()\n",
    "Nicolas_Cage_df = Nicolas_Cage_df[Nicolas_Cage_df.cast == 'Nicolas Cage']\n",
    "Nicolas_Cage_df.genres = Nicolas_Cage_df.genres.str.split('|')\n",
    "Nicolas_Cage_df = Nicolas_Cage_df.explode('genres')\n",
    "Nicolas_Cage = Nicolas_Cage_df.genres.value_counts().sort_values(ascending=False)\n",
    "answers['17'] = Nicolas_Cage.index[0]"
   ]
  },
  {
   "cell_type": "markdown",
   "metadata": {
    "colab_type": "text",
    "id": "RqOmPRfWVp_q"
   },
   "source": [
    "# 18. Самый убыточный фильм от Paramount Pictures"
   ]
  },
  {
   "cell_type": "code",
   "execution_count": 58,
   "metadata": {
    "colab": {},
    "colab_type": "code",
    "id": "9E_B0Y96Vp_r"
   },
   "outputs": [],
   "source": [
    "production_companies_df = data.copy()\n",
    "production_companies_df.production_companies = production_companies_df.production_companies.str.split('|')\n",
    "production_companies_df = production_companies_df.explode('production_companies')\n",
    "Paramount_Pictures_df = production_companies_df[production_companies_df.production_companies == 'Paramount Pictures']\n",
    "Paramount_Pictures_min = Paramount_Pictures_df.original_title.get(Paramount_Pictures_df.profit == Paramount_Pictures_df.profit.min()\n",
    "                                    ) + '(' + Paramount_Pictures_df.imdb_id.get(\n",
    "                                    Paramount_Pictures_df.profit == Paramount_Pictures_df.profit.min()) + ')'\n",
    "answers['18'] = Paramount_Pictures_min.values[0]"
   ]
  },
  {
   "cell_type": "markdown",
   "metadata": {
    "colab_type": "text",
    "id": "vS8Ur6ddVp_u"
   },
   "source": [
    "# 19. Какой год стал самым успешным по суммарным кассовым сборам?"
   ]
  },
  {
   "cell_type": "code",
   "execution_count": 59,
   "metadata": {
    "colab": {},
    "colab_type": "code",
    "id": "Dnbt4GdIVp_v"
   },
   "outputs": [],
   "source": [
    "release_year_revenue_max = data.groupby('release_year').sum()['revenue'].sort_values(ascending=False)\n",
    "answers['19'] = release_year_revenue_max.index[0]"
   ]
  },
  {
   "cell_type": "markdown",
   "metadata": {
    "colab_type": "text",
    "id": "JAzJh4QAVp_z"
   },
   "source": [
    "# 20. Какой самый прибыльный год для студии Warner Bros?"
   ]
  },
  {
   "cell_type": "code",
   "execution_count": 60,
   "metadata": {
    "colab": {},
    "colab_type": "code",
    "id": "wgVu02DEVp_0"
   },
   "outputs": [],
   "source": [
    "Warner_Bros_df = production_companies_df[production_companies_df.production_companies == 'Warner Bros']\n",
    "Warner_Bros_max = data.groupby('release_year').sum()['profit'].sort_values(ascending=False)\n",
    "answers['20'] = Warner_Bros_max.index[0]"
   ]
  },
  {
   "cell_type": "markdown",
   "metadata": {
    "colab_type": "text",
    "id": "8Im1S2HRVp_4"
   },
   "source": [
    "# 21. В каком месяце за все годы суммарно вышло больше всего фильмов?"
   ]
  },
  {
   "cell_type": "code",
   "execution_count": 61,
   "metadata": {
    "colab": {},
    "colab_type": "code",
    "id": "lev6TH7gVp_4"
   },
   "outputs": [],
   "source": [
    "data_month_df = data.copy()\n",
    "data_month_df.release_date = pd.to_datetime(data_month_df.release_date)\n",
    "data_month_df['month'] = data_month_df.release_date.dt.month\n",
    "month_max = data_month_df.month.value_counts().sort_values(ascending=False)\n",
    "answers['21'] = month_max.index[0]"
   ]
  },
  {
   "cell_type": "markdown",
   "metadata": {
    "colab_type": "text",
    "id": "uAJsZ_NeVp_7"
   },
   "source": [
    "# 22. Сколько суммарно вышло фильмов летом? (за июнь, июль, август)"
   ]
  },
  {
   "cell_type": "code",
   "execution_count": 62,
   "metadata": {
    "colab": {},
    "colab_type": "code",
    "id": "Aa-hEREoVp_8"
   },
   "outputs": [],
   "source": [
    "summer_sum = data_month_df.month.value_counts().sort_index()\n",
    "summer_sum = summer_sum.values[5]+summer_sum.values[6]+summer_sum.values[7]\n",
    "answers['22'] = summer_sum"
   ]
  },
  {
   "cell_type": "markdown",
   "metadata": {
    "colab_type": "text",
    "id": "G94ppOY1VqAA"
   },
   "source": [
    "# 23. Для какого режиссера зима – самое продуктивное время года? "
   ]
  },
  {
   "cell_type": "code",
   "execution_count": 63,
   "metadata": {
    "colab": {},
    "colab_type": "code",
    "id": "RhNTsamuVqAB"
   },
   "outputs": [],
   "source": [
    "director_month_df = data_month_df.copy()\n",
    "director_month_df.director = director_month_df.director.str.split('|')\n",
    "director_month_df = director_month_df.explode('director')\n",
    "director_month_df = director_month_df[director_month_df.month.isin([1, 2, 12])]\n",
    "director_winter = director_month_df.director.value_counts().sort_values(ascending=False)\n",
    "answers['23'] = director_winter.index[0]"
   ]
  },
  {
   "cell_type": "markdown",
   "metadata": {
    "colab_type": "text",
    "id": "RBo0JVjVVqAF"
   },
   "source": [
    "# 24. Какая студия дает самые длинные названия своим фильмам по количеству символов?"
   ]
  },
  {
   "cell_type": "code",
   "execution_count": 117,
   "metadata": {
    "colab": {},
    "colab_type": "code",
    "id": "QRGS8L0iVqAG"
   },
   "outputs": [],
   "source": [
    "production_companies_df['len_original_title'] = production_companies_df.original_title.str.len()\n",
    "original_title_max = production_companies_df.groupby('production_companies').mean()['len_original_title'].sort_values(ascending=False)\n",
    "original_title_max\n",
    "answers['24'] = original_title_max.index[0]"
   ]
  },
  {
   "cell_type": "markdown",
   "metadata": {
    "colab_type": "text",
    "id": "9G0hbvR7VqAK"
   },
   "source": [
    "# 25. Описание фильмов какой студии в среднем самые длинные по количеству слов?"
   ]
  },
  {
   "cell_type": "code",
   "execution_count": 65,
   "metadata": {
    "colab": {},
    "colab_type": "code",
    "id": "Ge2GsLNxVqAK"
   },
   "outputs": [],
   "source": [
    "production_companies_df_2 = production_companies_df.copy()\n",
    "production_companies_df_2.overview = production_companies_df_2.overview.str.split()\n",
    "production_companies_df_2['overview_title'] = production_companies_df_2.overview.str.len()\n",
    "overview_count_max = production_companies_df_2.groupby('production_companies').mean()['overview_title'].sort_values(ascending=False)\n",
    "overview_count_max\n",
    "answers['25'] = overview_count_max.index[0]"
   ]
  },
  {
   "cell_type": "markdown",
   "metadata": {
    "colab_type": "text",
    "id": "FJ1AFt90VqAP"
   },
   "source": [
    "# 26. Какие фильмы входят в 1 процент лучших по рейтингу? \n",
    "по vote_average"
   ]
  },
  {
   "cell_type": "code",
   "execution_count": 87,
   "metadata": {
    "colab": {},
    "colab_type": "code",
    "id": "8qmJVq4CVqAQ"
   },
   "outputs": [],
   "source": [
    "data_sort = data.vote_average.sort_values(ascending=False)\n",
    "\n",
    "A = ('Inside Out', 'The Dark Knight', '12 Years a Slave')\n",
    "count_A = 0\n",
    "B = ('BloodRayne', 'The Adventures of Rocky & Bullwinkle')\n",
    "count_B = 0\n",
    "C = ('Batman Begins', 'The Lord of the Rings: The Return of the King', 'Upside Down')\n",
    "count_C = 0\n",
    "D = ('300', 'Lucky Number Slevin', 'Kill Bill: Vol. 1')\n",
    "count_D = 0\n",
    "E = ('Upside Down', 'Inside Out', 'Iron Man')\n",
    "count_E = 0\n",
    "\n",
    "top_vote = []\n",
    "for i in data_sort.head(round(max(data.index)*0.01)).index:\n",
    "    top_vote.append(data.original_title[i])\n",
    "for i in top_vote:\n",
    "    if i in B:\n",
    "        count_B += 1\n",
    "        if count_B == len(B):\n",
    "            answers['26'] = B \n",
    "\n",
    "    elif i in A:\n",
    "        count_A += 1\n",
    "        if count_A == len(A):\n",
    "            answers['26'] = A\n",
    "\n",
    "    elif i in C:\n",
    "        count_C += 1\n",
    "        if count_C == len(C):\n",
    "            answers['26'] = C\n",
    "\n",
    "    elif i in D:\n",
    "        count_D += 1\n",
    "        if count_D == len(D):\n",
    "            answers['26'] = D\n",
    "\n",
    "    elif i in E:\n",
    "        count_E += 1\n",
    "        if count_E == len(E):\n",
    "            answers['26'] = E"
   ]
  },
  {
   "cell_type": "markdown",
   "metadata": {
    "colab_type": "text",
    "id": "MdXsUXbCVqAV"
   },
   "source": [
    "# 27. Какие актеры чаще всего снимаются в одном фильме вместе?"
   ]
  },
  {
   "cell_type": "code",
   "execution_count": 173,
   "metadata": {},
   "outputs": [
    {
     "name": "stderr",
     "output_type": "stream",
     "text": [
      "<ipython-input-173-90c576fd6eaf>:6: SettingWithCopyWarning: \n",
      "A value is trying to be set on a copy of a slice from a DataFrame\n",
      "\n",
      "See the caveats in the documentation: https://pandas.pydata.org/pandas-docs/stable/user_guide/indexing.html#returning-a-view-versus-a-copy\n",
      "  actors_df.cast[i] = combinations(actors_df.cast[i], 2)\n"
     ]
    },
    {
     "data": {
      "text/html": [
       "<div>\n",
       "<style scoped>\n",
       "    .dataframe tbody tr th:only-of-type {\n",
       "        vertical-align: middle;\n",
       "    }\n",
       "\n",
       "    .dataframe tbody tr th {\n",
       "        vertical-align: top;\n",
       "    }\n",
       "\n",
       "    .dataframe thead th {\n",
       "        text-align: right;\n",
       "    }\n",
       "</style>\n",
       "<table border=\"1\" class=\"dataframe\">\n",
       "  <thead>\n",
       "    <tr style=\"text-align: right;\">\n",
       "      <th></th>\n",
       "      <th>imdb_id</th>\n",
       "      <th>budget</th>\n",
       "      <th>revenue</th>\n",
       "      <th>original_title</th>\n",
       "      <th>cast</th>\n",
       "      <th>director</th>\n",
       "      <th>tagline</th>\n",
       "      <th>overview</th>\n",
       "      <th>runtime</th>\n",
       "      <th>genres</th>\n",
       "      <th>production_companies</th>\n",
       "      <th>release_date</th>\n",
       "      <th>vote_average</th>\n",
       "      <th>release_year</th>\n",
       "      <th>profit</th>\n",
       "    </tr>\n",
       "  </thead>\n",
       "  <tbody>\n",
       "    <tr>\n",
       "      <th>0</th>\n",
       "      <td>tt0369610</td>\n",
       "      <td>150000000</td>\n",
       "      <td>1513528810</td>\n",
       "      <td>Jurassic World</td>\n",
       "      <td>&lt;itertools.combinations object at 0x0000017341...</td>\n",
       "      <td>Colin Trevorrow</td>\n",
       "      <td>The park is open.</td>\n",
       "      <td>Twenty-two years after the events of Jurassic ...</td>\n",
       "      <td>124</td>\n",
       "      <td>Action|Adventure|Science Fiction|Thriller</td>\n",
       "      <td>Universal Studios|Amblin Entertainment|Legenda...</td>\n",
       "      <td>6/9/2015</td>\n",
       "      <td>6.5</td>\n",
       "      <td>2015</td>\n",
       "      <td>1363528810</td>\n",
       "    </tr>\n",
       "    <tr>\n",
       "      <th>1</th>\n",
       "      <td>tt1392190</td>\n",
       "      <td>150000000</td>\n",
       "      <td>378436354</td>\n",
       "      <td>Mad Max: Fury Road</td>\n",
       "      <td>&lt;itertools.combinations object at 0x0000017341...</td>\n",
       "      <td>George Miller</td>\n",
       "      <td>What a Lovely Day.</td>\n",
       "      <td>An apocalyptic story set in the furthest reach...</td>\n",
       "      <td>120</td>\n",
       "      <td>Action|Adventure|Science Fiction|Thriller</td>\n",
       "      <td>Village Roadshow Pictures|Kennedy Miller Produ...</td>\n",
       "      <td>5/13/2015</td>\n",
       "      <td>7.1</td>\n",
       "      <td>2015</td>\n",
       "      <td>228436354</td>\n",
       "    </tr>\n",
       "    <tr>\n",
       "      <th>2</th>\n",
       "      <td>tt2908446</td>\n",
       "      <td>110000000</td>\n",
       "      <td>295238201</td>\n",
       "      <td>Insurgent</td>\n",
       "      <td>&lt;itertools.combinations object at 0x0000017341...</td>\n",
       "      <td>Robert Schwentke</td>\n",
       "      <td>One Choice Can Destroy You</td>\n",
       "      <td>Beatrice Prior must confront her inner demons ...</td>\n",
       "      <td>119</td>\n",
       "      <td>Adventure|Science Fiction|Thriller</td>\n",
       "      <td>Summit Entertainment|Mandeville Films|Red Wago...</td>\n",
       "      <td>3/18/2015</td>\n",
       "      <td>6.3</td>\n",
       "      <td>2015</td>\n",
       "      <td>185238201</td>\n",
       "    </tr>\n",
       "    <tr>\n",
       "      <th>3</th>\n",
       "      <td>tt2488496</td>\n",
       "      <td>200000000</td>\n",
       "      <td>2068178225</td>\n",
       "      <td>Star Wars: The Force Awakens</td>\n",
       "      <td>&lt;itertools.combinations object at 0x0000017341...</td>\n",
       "      <td>J.J. Abrams</td>\n",
       "      <td>Every generation has a story.</td>\n",
       "      <td>Thirty years after defeating the Galactic Empi...</td>\n",
       "      <td>136</td>\n",
       "      <td>Action|Adventure|Science Fiction|Fantasy</td>\n",
       "      <td>Lucasfilm|Truenorth Productions|Bad Robot</td>\n",
       "      <td>12/15/2015</td>\n",
       "      <td>7.5</td>\n",
       "      <td>2015</td>\n",
       "      <td>1868178225</td>\n",
       "    </tr>\n",
       "    <tr>\n",
       "      <th>4</th>\n",
       "      <td>tt2820852</td>\n",
       "      <td>190000000</td>\n",
       "      <td>1506249360</td>\n",
       "      <td>Furious 7</td>\n",
       "      <td>&lt;itertools.combinations object at 0x0000017341...</td>\n",
       "      <td>James Wan</td>\n",
       "      <td>Vengeance Hits Home</td>\n",
       "      <td>Deckard Shaw seeks revenge against Dominic Tor...</td>\n",
       "      <td>137</td>\n",
       "      <td>Action|Crime|Thriller</td>\n",
       "      <td>Universal Pictures|Original Film|Media Rights ...</td>\n",
       "      <td>4/1/2015</td>\n",
       "      <td>7.3</td>\n",
       "      <td>2015</td>\n",
       "      <td>1316249360</td>\n",
       "    </tr>\n",
       "  </tbody>\n",
       "</table>\n",
       "</div>"
      ],
      "text/plain": [
       "     imdb_id     budget     revenue                original_title  \\\n",
       "0  tt0369610  150000000  1513528810                Jurassic World   \n",
       "1  tt1392190  150000000   378436354            Mad Max: Fury Road   \n",
       "2  tt2908446  110000000   295238201                     Insurgent   \n",
       "3  tt2488496  200000000  2068178225  Star Wars: The Force Awakens   \n",
       "4  tt2820852  190000000  1506249360                     Furious 7   \n",
       "\n",
       "                                                cast          director  \\\n",
       "0  <itertools.combinations object at 0x0000017341...   Colin Trevorrow   \n",
       "1  <itertools.combinations object at 0x0000017341...     George Miller   \n",
       "2  <itertools.combinations object at 0x0000017341...  Robert Schwentke   \n",
       "3  <itertools.combinations object at 0x0000017341...       J.J. Abrams   \n",
       "4  <itertools.combinations object at 0x0000017341...         James Wan   \n",
       "\n",
       "                         tagline  \\\n",
       "0              The park is open.   \n",
       "1             What a Lovely Day.   \n",
       "2     One Choice Can Destroy You   \n",
       "3  Every generation has a story.   \n",
       "4            Vengeance Hits Home   \n",
       "\n",
       "                                            overview  runtime  \\\n",
       "0  Twenty-two years after the events of Jurassic ...      124   \n",
       "1  An apocalyptic story set in the furthest reach...      120   \n",
       "2  Beatrice Prior must confront her inner demons ...      119   \n",
       "3  Thirty years after defeating the Galactic Empi...      136   \n",
       "4  Deckard Shaw seeks revenge against Dominic Tor...      137   \n",
       "\n",
       "                                      genres  \\\n",
       "0  Action|Adventure|Science Fiction|Thriller   \n",
       "1  Action|Adventure|Science Fiction|Thriller   \n",
       "2         Adventure|Science Fiction|Thriller   \n",
       "3   Action|Adventure|Science Fiction|Fantasy   \n",
       "4                      Action|Crime|Thriller   \n",
       "\n",
       "                                production_companies release_date  \\\n",
       "0  Universal Studios|Amblin Entertainment|Legenda...     6/9/2015   \n",
       "1  Village Roadshow Pictures|Kennedy Miller Produ...    5/13/2015   \n",
       "2  Summit Entertainment|Mandeville Films|Red Wago...    3/18/2015   \n",
       "3          Lucasfilm|Truenorth Productions|Bad Robot   12/15/2015   \n",
       "4  Universal Pictures|Original Film|Media Rights ...     4/1/2015   \n",
       "\n",
       "   vote_average  release_year      profit  \n",
       "0           6.5          2015  1363528810  \n",
       "1           7.1          2015   228436354  \n",
       "2           6.3          2015   185238201  \n",
       "3           7.5          2015  1868178225  \n",
       "4           7.3          2015  1316249360  "
      ]
     },
     "execution_count": 173,
     "metadata": {},
     "output_type": "execute_result"
    }
   ],
   "source": [
    "from itertools import combinations\n",
    "actors_df = data.copy()\n",
    "actors_df.cast = actors_df.cast.str.split('|')\n",
    "#actors_df['cast_pair'] = \n",
    "for i in actors_df.index:\n",
    "    actors_df.cast[i] = combinations(actors_df.cast[i], 2)\n",
    "#actors_df = actors_df.explode('cast')\n",
    "#actors_df['cast_pair'] = combinations(actors_df.cast, 2)\n",
    "#actors_df.cast_pair = combinations(actors_df.cast_pair, 2)\n",
    "actors_df.head()\n",
    "#list_cast = combinations(actors_df.cast.unique(), 2)\n",
    "#list_cast"
   ]
  },
  {
   "cell_type": "markdown",
   "metadata": {
    "colab_type": "text",
    "id": "U0nONFnGVqAX"
   },
   "source": [
    "# Submission"
   ]
  },
  {
   "cell_type": "code",
   "execution_count": 88,
   "metadata": {
    "colab": {},
    "colab_type": "code",
    "id": "IfcaRO9-VqAX",
    "outputId": "0f132912-32bb-4196-c98c-abfbc4ad5a5f"
   },
   "outputs": [
    {
     "data": {
      "text/plain": [
       "{'1': 'Pirates of the Caribbean: On Stranger Tides(tt1298650)',\n",
       " '2': 'Gods and Generals(tt0279111)',\n",
       " '3': 'Winnie the Pooh(tt1449283)',\n",
       " '4': 109.6585494970884,\n",
       " '5': 107.0,\n",
       " '6': 'Avatar(tt0499549)',\n",
       " '7': 'The Lone Ranger(tt1210819)',\n",
       " '8': 1478,\n",
       " '9': 'The Dark Knight(tt0468569)',\n",
       " '10': 'The Lone Ranger(tt1210819)',\n",
       " '11': 'Drama',\n",
       " '12': 'Drama',\n",
       " '13': 'Peter Jackson',\n",
       " '14': 'Rob Cohen',\n",
       " '15': 'Chris Hemsworth',\n",
       " '16': 'Matt Damon',\n",
       " '17': 'Action',\n",
       " '18': 'K-19: The Widowmaker(tt0267626)',\n",
       " '19': 2015,\n",
       " '20': 2015,\n",
       " '21': 9,\n",
       " '22': 450,\n",
       " '23': 'Peter Jackson',\n",
       " '24': 'Four By Two Productions',\n",
       " '25': 'Midnight Picture Show',\n",
       " '26': ('Inside Out', 'The Dark Knight', '12 Years a Slave')}"
      ]
     },
     "execution_count": 88,
     "metadata": {},
     "output_type": "execute_result"
    }
   ],
   "source": [
    "# в конце можно посмотреть свои ответы к каждому вопросу\n",
    "answers"
   ]
  },
  {
   "cell_type": "code",
   "execution_count": 95,
   "metadata": {
    "colab": {},
    "colab_type": "code",
    "id": "SiRmHPl8VqAd"
   },
   "outputs": [
    {
     "data": {
      "text/plain": [
       "26"
      ]
     },
     "execution_count": 95,
     "metadata": {},
     "output_type": "execute_result"
    }
   ],
   "source": [
    "# и убедиться что ни чего не пропустил)\n",
    "len(answers)"
   ]
  },
  {
   "cell_type": "code",
   "execution_count": 0,
   "metadata": {
    "colab": {},
    "colab_type": "code",
    "id": "uCfuTkRbVqAg"
   },
   "outputs": [],
   "source": []
  },
  {
   "cell_type": "code",
   "execution_count": 0,
   "metadata": {
    "colab": {},
    "colab_type": "code",
    "id": "Vwx3NrkSVqAl"
   },
   "outputs": [],
   "source": []
  }
 ],
 "metadata": {
  "celltoolbar": "Raw Cell Format",
  "colab": {
   "name": "Copy of [SF-DST] Movies IMBD v4.1 TEMPLATE.ipynb",
   "provenance": []
  },
  "kernelspec": {
   "display_name": "Python 3",
   "language": "python",
   "name": "python3"
  },
  "language_info": {
   "codemirror_mode": {
    "name": "ipython",
    "version": 3
   },
   "file_extension": ".py",
   "mimetype": "text/x-python",
   "name": "python",
   "nbconvert_exporter": "python",
   "pygments_lexer": "ipython3",
   "version": "3.8.3"
  }
 },
 "nbformat": 4,
 "nbformat_minor": 1
}
